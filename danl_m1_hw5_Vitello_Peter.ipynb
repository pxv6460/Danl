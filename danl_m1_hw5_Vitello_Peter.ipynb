{
  "nbformat": 4,
  "nbformat_minor": 0,
  "metadata": {
    "colab": {
      "provenance": [],
      "authorship_tag": "ABX9TyOecHoD97mHoWrCHn/QkPxN",
      "include_colab_link": true
    },
    "kernelspec": {
      "name": "python3",
      "display_name": "Python 3"
    },
    "language_info": {
      "name": "python"
    }
  },
  "cells": [
    {
      "cell_type": "markdown",
      "metadata": {
        "id": "view-in-github",
        "colab_type": "text"
      },
      "source": [
        "<a href=\"https://colab.research.google.com/github/pxv6460/Danl/blob/main/danl_m1_hw5_Vitello_Peter.ipynb\" target=\"_parent\"><img src=\"https://colab.research.google.com/assets/colab-badge.svg\" alt=\"Open In Colab\"/></a>"
      ]
    },
    {
      "cell_type": "code",
      "execution_count": null,
      "metadata": {
        "id": "tbKDAQK6KJdY"
      },
      "outputs": [],
      "source": []
    },
    {
      "cell_type": "markdown",
      "source": [
        "# Homework 5"
      ],
      "metadata": {
        "id": "_ikM03gWKVJn"
      }
    },
    {
      "cell_type": "markdown",
      "source": [
        "**Question 1**"
      ],
      "metadata": {
        "id": "ulHtAbs6KaGw"
      }
    },
    {
      "cell_type": "code",
      "source": [
        "import pandas as pd\n",
        "\n",
        "fao = pd.read_csv(\"https://bcdanl.github.io/data/fao_stat.csv\",\n",
        "                  encoding = 'ISO-8859-1')\n",
        "# round just tells us how many numbers there will be after the decimal\n",
        "missing_percentage = (fao.isna().mean() * 100).round(3)\n",
        "\n",
        "# Display the result\n",
        "print(missing_percentage)"
      ],
      "metadata": {
        "colab": {
          "base_uri": "https://localhost:8080/"
        },
        "id": "LUTDXqrnKcqm",
        "outputId": "dc83c621-309a-481e-ed28-8af687ceeadb"
      },
      "execution_count": 7,
      "outputs": [
        {
          "output_type": "stream",
          "name": "stdout",
          "text": [
            "SSA                     0.000\n",
            "Area                    0.000\n",
            "Year                    0.000\n",
            "gdp_per_capita          8.414\n",
            "drinking_water          3.991\n",
            "sanitation_service      4.423\n",
            "children_stunted       24.272\n",
            "children_overweight    24.272\n",
            "investment_pct          3.398\n",
            "dtype: float64\n"
          ]
        }
      ]
    },
    {
      "cell_type": "markdown",
      "source": [
        "using the isna function I can identiy missing values in the data frame"
      ],
      "metadata": {
        "id": "Jp03XjG-LaHU"
      }
    },
    {
      "cell_type": "markdown",
      "source": [
        "**Question 2**"
      ],
      "metadata": {
        "id": "D26uP042LnkP"
      }
    },
    {
      "cell_type": "code",
      "source": [
        "# gets the mean value for the gdp per cap\n",
        "gdp_mean = fao['gdp_per_capita'].mean()\n",
        "\n",
        "fao['gdp_per_capita'].fillna(gdp_mean, inplace = True)\n",
        "\n",
        "fao['gdp_per_capita']"
      ],
      "metadata": {
        "colab": {
          "base_uri": "https://localhost:8080/"
        },
        "id": "6oeUCyXBLqwJ",
        "outputId": "0c472f77-36f6-4d5f-d67f-ce74ddc8cfab"
      },
      "execution_count": 13,
      "outputs": [
        {
          "output_type": "execute_result",
          "data": {
            "text/plain": [
              "0       2075.5\n",
              "1       2116.5\n",
              "2       2102.4\n",
              "3       2068.3\n",
              "4       2057.1\n",
              "         ...  \n",
              "1849    3678.2\n",
              "1850    3795.6\n",
              "1851    3923.0\n",
              "1852    3630.0\n",
              "1853    3353.4\n",
              "Name: gdp_per_capita, Length: 1854, dtype: float64"
            ]
          },
          "metadata": {},
          "execution_count": 13
        }
      ]
    },
    {
      "cell_type": "markdown",
      "source": [
        "finding the fillna function online I see it can be used to fill all missing values for gdp per cap"
      ],
      "metadata": {
        "id": "UZUSSlbMNViu"
      }
    },
    {
      "cell_type": "markdown",
      "source": [
        "**Question 3**"
      ],
      "metadata": {
        "id": "MEEHUjeSNtcg"
      }
    },
    {
      "cell_type": "code",
      "source": [
        "fao.dropna(subset=['drinking_water', 'sanitation_service'], inplace=True)\n",
        "\n",
        "fao"
      ],
      "metadata": {
        "colab": {
          "base_uri": "https://localhost:8080/",
          "height": 424
        },
        "id": "-YDP6pV7NsvZ",
        "outputId": "1eccefb1-909d-4e66-b4c5-f99cabecf5e7"
      },
      "execution_count": 14,
      "outputs": [
        {
          "output_type": "execute_result",
          "data": {
            "text/plain": [
              "        SSA         Area  Year  gdp_per_capita  drinking_water  \\\n",
              "0     False  Afghanistan  2012          2075.5            53.4   \n",
              "1     False  Afghanistan  2013          2116.5            56.0   \n",
              "2     False  Afghanistan  2014          2102.4            58.7   \n",
              "3     False  Afghanistan  2015          2068.3            61.3   \n",
              "4     False  Afghanistan  2016          2057.1            64.1   \n",
              "...     ...          ...   ...             ...             ...   \n",
              "1849   True     Zimbabwe  2016          3678.2            64.5   \n",
              "1850   True     Zimbabwe  2017          3795.6            64.0   \n",
              "1851   True     Zimbabwe  2018          3923.0            63.5   \n",
              "1852   True     Zimbabwe  2019          3630.0            63.1   \n",
              "1853   True     Zimbabwe  2020          3353.4            62.7   \n",
              "\n",
              "      sanitation_service  children_stunted  children_overweight  \\\n",
              "0                   38.0              44.7                  5.3   \n",
              "1                   39.5              43.4                  5.2   \n",
              "2                   41.1              42.1                  5.0   \n",
              "3                   42.6              41.1                  4.8   \n",
              "4                   44.2              39.9                  4.6   \n",
              "...                  ...               ...                  ...   \n",
              "1849                37.5              25.8                  4.0   \n",
              "1850                36.9              24.9                  3.9   \n",
              "1851                36.4              24.2                  3.8   \n",
              "1852                35.8              23.5                  3.7   \n",
              "1853                35.2              23.0                  3.6   \n",
              "\n",
              "      investment_pct  \n",
              "0          20.378670  \n",
              "1          17.844328  \n",
              "2          13.033419  \n",
              "3          13.702608  \n",
              "4          13.405886  \n",
              "...              ...  \n",
              "1849        9.969622  \n",
              "1850        9.925806  \n",
              "1851        9.899619  \n",
              "1852        9.931683  \n",
              "1853        9.919036  \n",
              "\n",
              "[1762 rows x 9 columns]"
            ],
            "text/html": [
              "\n",
              "  <div id=\"df-a3865032-dc27-40b4-9cb4-652d4aaef8a7\" class=\"colab-df-container\">\n",
              "    <div>\n",
              "<style scoped>\n",
              "    .dataframe tbody tr th:only-of-type {\n",
              "        vertical-align: middle;\n",
              "    }\n",
              "\n",
              "    .dataframe tbody tr th {\n",
              "        vertical-align: top;\n",
              "    }\n",
              "\n",
              "    .dataframe thead th {\n",
              "        text-align: right;\n",
              "    }\n",
              "</style>\n",
              "<table border=\"1\" class=\"dataframe\">\n",
              "  <thead>\n",
              "    <tr style=\"text-align: right;\">\n",
              "      <th></th>\n",
              "      <th>SSA</th>\n",
              "      <th>Area</th>\n",
              "      <th>Year</th>\n",
              "      <th>gdp_per_capita</th>\n",
              "      <th>drinking_water</th>\n",
              "      <th>sanitation_service</th>\n",
              "      <th>children_stunted</th>\n",
              "      <th>children_overweight</th>\n",
              "      <th>investment_pct</th>\n",
              "    </tr>\n",
              "  </thead>\n",
              "  <tbody>\n",
              "    <tr>\n",
              "      <th>0</th>\n",
              "      <td>False</td>\n",
              "      <td>Afghanistan</td>\n",
              "      <td>2012</td>\n",
              "      <td>2075.5</td>\n",
              "      <td>53.4</td>\n",
              "      <td>38.0</td>\n",
              "      <td>44.7</td>\n",
              "      <td>5.3</td>\n",
              "      <td>20.378670</td>\n",
              "    </tr>\n",
              "    <tr>\n",
              "      <th>1</th>\n",
              "      <td>False</td>\n",
              "      <td>Afghanistan</td>\n",
              "      <td>2013</td>\n",
              "      <td>2116.5</td>\n",
              "      <td>56.0</td>\n",
              "      <td>39.5</td>\n",
              "      <td>43.4</td>\n",
              "      <td>5.2</td>\n",
              "      <td>17.844328</td>\n",
              "    </tr>\n",
              "    <tr>\n",
              "      <th>2</th>\n",
              "      <td>False</td>\n",
              "      <td>Afghanistan</td>\n",
              "      <td>2014</td>\n",
              "      <td>2102.4</td>\n",
              "      <td>58.7</td>\n",
              "      <td>41.1</td>\n",
              "      <td>42.1</td>\n",
              "      <td>5.0</td>\n",
              "      <td>13.033419</td>\n",
              "    </tr>\n",
              "    <tr>\n",
              "      <th>3</th>\n",
              "      <td>False</td>\n",
              "      <td>Afghanistan</td>\n",
              "      <td>2015</td>\n",
              "      <td>2068.3</td>\n",
              "      <td>61.3</td>\n",
              "      <td>42.6</td>\n",
              "      <td>41.1</td>\n",
              "      <td>4.8</td>\n",
              "      <td>13.702608</td>\n",
              "    </tr>\n",
              "    <tr>\n",
              "      <th>4</th>\n",
              "      <td>False</td>\n",
              "      <td>Afghanistan</td>\n",
              "      <td>2016</td>\n",
              "      <td>2057.1</td>\n",
              "      <td>64.1</td>\n",
              "      <td>44.2</td>\n",
              "      <td>39.9</td>\n",
              "      <td>4.6</td>\n",
              "      <td>13.405886</td>\n",
              "    </tr>\n",
              "    <tr>\n",
              "      <th>...</th>\n",
              "      <td>...</td>\n",
              "      <td>...</td>\n",
              "      <td>...</td>\n",
              "      <td>...</td>\n",
              "      <td>...</td>\n",
              "      <td>...</td>\n",
              "      <td>...</td>\n",
              "      <td>...</td>\n",
              "      <td>...</td>\n",
              "    </tr>\n",
              "    <tr>\n",
              "      <th>1849</th>\n",
              "      <td>True</td>\n",
              "      <td>Zimbabwe</td>\n",
              "      <td>2016</td>\n",
              "      <td>3678.2</td>\n",
              "      <td>64.5</td>\n",
              "      <td>37.5</td>\n",
              "      <td>25.8</td>\n",
              "      <td>4.0</td>\n",
              "      <td>9.969622</td>\n",
              "    </tr>\n",
              "    <tr>\n",
              "      <th>1850</th>\n",
              "      <td>True</td>\n",
              "      <td>Zimbabwe</td>\n",
              "      <td>2017</td>\n",
              "      <td>3795.6</td>\n",
              "      <td>64.0</td>\n",
              "      <td>36.9</td>\n",
              "      <td>24.9</td>\n",
              "      <td>3.9</td>\n",
              "      <td>9.925806</td>\n",
              "    </tr>\n",
              "    <tr>\n",
              "      <th>1851</th>\n",
              "      <td>True</td>\n",
              "      <td>Zimbabwe</td>\n",
              "      <td>2018</td>\n",
              "      <td>3923.0</td>\n",
              "      <td>63.5</td>\n",
              "      <td>36.4</td>\n",
              "      <td>24.2</td>\n",
              "      <td>3.8</td>\n",
              "      <td>9.899619</td>\n",
              "    </tr>\n",
              "    <tr>\n",
              "      <th>1852</th>\n",
              "      <td>True</td>\n",
              "      <td>Zimbabwe</td>\n",
              "      <td>2019</td>\n",
              "      <td>3630.0</td>\n",
              "      <td>63.1</td>\n",
              "      <td>35.8</td>\n",
              "      <td>23.5</td>\n",
              "      <td>3.7</td>\n",
              "      <td>9.931683</td>\n",
              "    </tr>\n",
              "    <tr>\n",
              "      <th>1853</th>\n",
              "      <td>True</td>\n",
              "      <td>Zimbabwe</td>\n",
              "      <td>2020</td>\n",
              "      <td>3353.4</td>\n",
              "      <td>62.7</td>\n",
              "      <td>35.2</td>\n",
              "      <td>23.0</td>\n",
              "      <td>3.6</td>\n",
              "      <td>9.919036</td>\n",
              "    </tr>\n",
              "  </tbody>\n",
              "</table>\n",
              "<p>1762 rows × 9 columns</p>\n",
              "</div>\n",
              "    <div class=\"colab-df-buttons\">\n",
              "\n",
              "  <div class=\"colab-df-container\">\n",
              "    <button class=\"colab-df-convert\" onclick=\"convertToInteractive('df-a3865032-dc27-40b4-9cb4-652d4aaef8a7')\"\n",
              "            title=\"Convert this dataframe to an interactive table.\"\n",
              "            style=\"display:none;\">\n",
              "\n",
              "  <svg xmlns=\"http://www.w3.org/2000/svg\" height=\"24px\" viewBox=\"0 -960 960 960\">\n",
              "    <path d=\"M120-120v-720h720v720H120Zm60-500h600v-160H180v160Zm220 220h160v-160H400v160Zm0 220h160v-160H400v160ZM180-400h160v-160H180v160Zm440 0h160v-160H620v160ZM180-180h160v-160H180v160Zm440 0h160v-160H620v160Z\"/>\n",
              "  </svg>\n",
              "    </button>\n",
              "\n",
              "  <style>\n",
              "    .colab-df-container {\n",
              "      display:flex;\n",
              "      gap: 12px;\n",
              "    }\n",
              "\n",
              "    .colab-df-convert {\n",
              "      background-color: #E8F0FE;\n",
              "      border: none;\n",
              "      border-radius: 50%;\n",
              "      cursor: pointer;\n",
              "      display: none;\n",
              "      fill: #1967D2;\n",
              "      height: 32px;\n",
              "      padding: 0 0 0 0;\n",
              "      width: 32px;\n",
              "    }\n",
              "\n",
              "    .colab-df-convert:hover {\n",
              "      background-color: #E2EBFA;\n",
              "      box-shadow: 0px 1px 2px rgba(60, 64, 67, 0.3), 0px 1px 3px 1px rgba(60, 64, 67, 0.15);\n",
              "      fill: #174EA6;\n",
              "    }\n",
              "\n",
              "    .colab-df-buttons div {\n",
              "      margin-bottom: 4px;\n",
              "    }\n",
              "\n",
              "    [theme=dark] .colab-df-convert {\n",
              "      background-color: #3B4455;\n",
              "      fill: #D2E3FC;\n",
              "    }\n",
              "\n",
              "    [theme=dark] .colab-df-convert:hover {\n",
              "      background-color: #434B5C;\n",
              "      box-shadow: 0px 1px 3px 1px rgba(0, 0, 0, 0.15);\n",
              "      filter: drop-shadow(0px 1px 2px rgba(0, 0, 0, 0.3));\n",
              "      fill: #FFFFFF;\n",
              "    }\n",
              "  </style>\n",
              "\n",
              "    <script>\n",
              "      const buttonEl =\n",
              "        document.querySelector('#df-a3865032-dc27-40b4-9cb4-652d4aaef8a7 button.colab-df-convert');\n",
              "      buttonEl.style.display =\n",
              "        google.colab.kernel.accessAllowed ? 'block' : 'none';\n",
              "\n",
              "      async function convertToInteractive(key) {\n",
              "        const element = document.querySelector('#df-a3865032-dc27-40b4-9cb4-652d4aaef8a7');\n",
              "        const dataTable =\n",
              "          await google.colab.kernel.invokeFunction('convertToInteractive',\n",
              "                                                    [key], {});\n",
              "        if (!dataTable) return;\n",
              "\n",
              "        const docLinkHtml = 'Like what you see? Visit the ' +\n",
              "          '<a target=\"_blank\" href=https://colab.research.google.com/notebooks/data_table.ipynb>data table notebook</a>'\n",
              "          + ' to learn more about interactive tables.';\n",
              "        element.innerHTML = '';\n",
              "        dataTable['output_type'] = 'display_data';\n",
              "        await google.colab.output.renderOutput(dataTable, element);\n",
              "        const docLink = document.createElement('div');\n",
              "        docLink.innerHTML = docLinkHtml;\n",
              "        element.appendChild(docLink);\n",
              "      }\n",
              "    </script>\n",
              "  </div>\n",
              "\n",
              "\n",
              "<div id=\"df-28ce4d91-e44a-4ad9-892e-cf5756b5751d\">\n",
              "  <button class=\"colab-df-quickchart\" onclick=\"quickchart('df-28ce4d91-e44a-4ad9-892e-cf5756b5751d')\"\n",
              "            title=\"Suggest charts\"\n",
              "            style=\"display:none;\">\n",
              "\n",
              "<svg xmlns=\"http://www.w3.org/2000/svg\" height=\"24px\"viewBox=\"0 0 24 24\"\n",
              "     width=\"24px\">\n",
              "    <g>\n",
              "        <path d=\"M19 3H5c-1.1 0-2 .9-2 2v14c0 1.1.9 2 2 2h14c1.1 0 2-.9 2-2V5c0-1.1-.9-2-2-2zM9 17H7v-7h2v7zm4 0h-2V7h2v10zm4 0h-2v-4h2v4z\"/>\n",
              "    </g>\n",
              "</svg>\n",
              "  </button>\n",
              "\n",
              "<style>\n",
              "  .colab-df-quickchart {\n",
              "      --bg-color: #E8F0FE;\n",
              "      --fill-color: #1967D2;\n",
              "      --hover-bg-color: #E2EBFA;\n",
              "      --hover-fill-color: #174EA6;\n",
              "      --disabled-fill-color: #AAA;\n",
              "      --disabled-bg-color: #DDD;\n",
              "  }\n",
              "\n",
              "  [theme=dark] .colab-df-quickchart {\n",
              "      --bg-color: #3B4455;\n",
              "      --fill-color: #D2E3FC;\n",
              "      --hover-bg-color: #434B5C;\n",
              "      --hover-fill-color: #FFFFFF;\n",
              "      --disabled-bg-color: #3B4455;\n",
              "      --disabled-fill-color: #666;\n",
              "  }\n",
              "\n",
              "  .colab-df-quickchart {\n",
              "    background-color: var(--bg-color);\n",
              "    border: none;\n",
              "    border-radius: 50%;\n",
              "    cursor: pointer;\n",
              "    display: none;\n",
              "    fill: var(--fill-color);\n",
              "    height: 32px;\n",
              "    padding: 0;\n",
              "    width: 32px;\n",
              "  }\n",
              "\n",
              "  .colab-df-quickchart:hover {\n",
              "    background-color: var(--hover-bg-color);\n",
              "    box-shadow: 0 1px 2px rgba(60, 64, 67, 0.3), 0 1px 3px 1px rgba(60, 64, 67, 0.15);\n",
              "    fill: var(--button-hover-fill-color);\n",
              "  }\n",
              "\n",
              "  .colab-df-quickchart-complete:disabled,\n",
              "  .colab-df-quickchart-complete:disabled:hover {\n",
              "    background-color: var(--disabled-bg-color);\n",
              "    fill: var(--disabled-fill-color);\n",
              "    box-shadow: none;\n",
              "  }\n",
              "\n",
              "  .colab-df-spinner {\n",
              "    border: 2px solid var(--fill-color);\n",
              "    border-color: transparent;\n",
              "    border-bottom-color: var(--fill-color);\n",
              "    animation:\n",
              "      spin 1s steps(1) infinite;\n",
              "  }\n",
              "\n",
              "  @keyframes spin {\n",
              "    0% {\n",
              "      border-color: transparent;\n",
              "      border-bottom-color: var(--fill-color);\n",
              "      border-left-color: var(--fill-color);\n",
              "    }\n",
              "    20% {\n",
              "      border-color: transparent;\n",
              "      border-left-color: var(--fill-color);\n",
              "      border-top-color: var(--fill-color);\n",
              "    }\n",
              "    30% {\n",
              "      border-color: transparent;\n",
              "      border-left-color: var(--fill-color);\n",
              "      border-top-color: var(--fill-color);\n",
              "      border-right-color: var(--fill-color);\n",
              "    }\n",
              "    40% {\n",
              "      border-color: transparent;\n",
              "      border-right-color: var(--fill-color);\n",
              "      border-top-color: var(--fill-color);\n",
              "    }\n",
              "    60% {\n",
              "      border-color: transparent;\n",
              "      border-right-color: var(--fill-color);\n",
              "    }\n",
              "    80% {\n",
              "      border-color: transparent;\n",
              "      border-right-color: var(--fill-color);\n",
              "      border-bottom-color: var(--fill-color);\n",
              "    }\n",
              "    90% {\n",
              "      border-color: transparent;\n",
              "      border-bottom-color: var(--fill-color);\n",
              "    }\n",
              "  }\n",
              "</style>\n",
              "\n",
              "  <script>\n",
              "    async function quickchart(key) {\n",
              "      const quickchartButtonEl =\n",
              "        document.querySelector('#' + key + ' button');\n",
              "      quickchartButtonEl.disabled = true;  // To prevent multiple clicks.\n",
              "      quickchartButtonEl.classList.add('colab-df-spinner');\n",
              "      try {\n",
              "        const charts = await google.colab.kernel.invokeFunction(\n",
              "            'suggestCharts', [key], {});\n",
              "      } catch (error) {\n",
              "        console.error('Error during call to suggestCharts:', error);\n",
              "      }\n",
              "      quickchartButtonEl.classList.remove('colab-df-spinner');\n",
              "      quickchartButtonEl.classList.add('colab-df-quickchart-complete');\n",
              "    }\n",
              "    (() => {\n",
              "      let quickchartButtonEl =\n",
              "        document.querySelector('#df-28ce4d91-e44a-4ad9-892e-cf5756b5751d button');\n",
              "      quickchartButtonEl.style.display =\n",
              "        google.colab.kernel.accessAllowed ? 'block' : 'none';\n",
              "    })();\n",
              "  </script>\n",
              "</div>\n",
              "\n",
              "  <div id=\"id_2137c91e-5ab6-411a-86d0-6555a04075b5\">\n",
              "    <style>\n",
              "      .colab-df-generate {\n",
              "        background-color: #E8F0FE;\n",
              "        border: none;\n",
              "        border-radius: 50%;\n",
              "        cursor: pointer;\n",
              "        display: none;\n",
              "        fill: #1967D2;\n",
              "        height: 32px;\n",
              "        padding: 0 0 0 0;\n",
              "        width: 32px;\n",
              "      }\n",
              "\n",
              "      .colab-df-generate:hover {\n",
              "        background-color: #E2EBFA;\n",
              "        box-shadow: 0px 1px 2px rgba(60, 64, 67, 0.3), 0px 1px 3px 1px rgba(60, 64, 67, 0.15);\n",
              "        fill: #174EA6;\n",
              "      }\n",
              "\n",
              "      [theme=dark] .colab-df-generate {\n",
              "        background-color: #3B4455;\n",
              "        fill: #D2E3FC;\n",
              "      }\n",
              "\n",
              "      [theme=dark] .colab-df-generate:hover {\n",
              "        background-color: #434B5C;\n",
              "        box-shadow: 0px 1px 3px 1px rgba(0, 0, 0, 0.15);\n",
              "        filter: drop-shadow(0px 1px 2px rgba(0, 0, 0, 0.3));\n",
              "        fill: #FFFFFF;\n",
              "      }\n",
              "    </style>\n",
              "    <button class=\"colab-df-generate\" onclick=\"generateWithVariable('fao')\"\n",
              "            title=\"Generate code using this dataframe.\"\n",
              "            style=\"display:none;\">\n",
              "\n",
              "  <svg xmlns=\"http://www.w3.org/2000/svg\" height=\"24px\"viewBox=\"0 0 24 24\"\n",
              "       width=\"24px\">\n",
              "    <path d=\"M7,19H8.4L18.45,9,17,7.55,7,17.6ZM5,21V16.75L18.45,3.32a2,2,0,0,1,2.83,0l1.4,1.43a1.91,1.91,0,0,1,.58,1.4,1.91,1.91,0,0,1-.58,1.4L9.25,21ZM18.45,9,17,7.55Zm-12,3A5.31,5.31,0,0,0,4.9,8.1,5.31,5.31,0,0,0,1,6.5,5.31,5.31,0,0,0,4.9,4.9,5.31,5.31,0,0,0,6.5,1,5.31,5.31,0,0,0,8.1,4.9,5.31,5.31,0,0,0,12,6.5,5.46,5.46,0,0,0,6.5,12Z\"/>\n",
              "  </svg>\n",
              "    </button>\n",
              "    <script>\n",
              "      (() => {\n",
              "      const buttonEl =\n",
              "        document.querySelector('#id_2137c91e-5ab6-411a-86d0-6555a04075b5 button.colab-df-generate');\n",
              "      buttonEl.style.display =\n",
              "        google.colab.kernel.accessAllowed ? 'block' : 'none';\n",
              "\n",
              "      buttonEl.onclick = () => {\n",
              "        google.colab.notebook.generateWithVariable('fao');\n",
              "      }\n",
              "      })();\n",
              "    </script>\n",
              "  </div>\n",
              "\n",
              "    </div>\n",
              "  </div>\n"
            ],
            "application/vnd.google.colaboratory.intrinsic+json": {
              "type": "dataframe",
              "variable_name": "fao",
              "summary": "{\n  \"name\": \"fao\",\n  \"rows\": 1762,\n  \"fields\": [\n    {\n      \"column\": \"SSA\",\n      \"properties\": {\n        \"dtype\": \"boolean\",\n        \"num_unique_values\": 2,\n        \"samples\": [\n          true,\n          false\n        ],\n        \"semantic_type\": \"\",\n        \"description\": \"\"\n      }\n    },\n    {\n      \"column\": \"Area\",\n      \"properties\": {\n        \"dtype\": \"category\",\n        \"num_unique_values\": 201,\n        \"samples\": [\n          \"Kuwait\",\n          \"Barbados\"\n        ],\n        \"semantic_type\": \"\",\n        \"description\": \"\"\n      }\n    },\n    {\n      \"column\": \"Year\",\n      \"properties\": {\n        \"dtype\": \"number\",\n        \"std\": 2,\n        \"min\": 2012,\n        \"max\": 2020,\n        \"num_unique_values\": 9,\n        \"samples\": [\n          2019,\n          2013\n        ],\n        \"semantic_type\": \"\",\n        \"description\": \"\"\n      }\n    },\n    {\n      \"column\": \"gdp_per_capita\",\n      \"properties\": {\n        \"dtype\": \"number\",\n        \"std\": 21250.462915127348,\n        \"min\": 731.1,\n        \"max\": 161972.0,\n        \"num_unique_values\": 1625,\n        \"samples\": [\n          48752.5,\n          11429.3\n        ],\n        \"semantic_type\": \"\",\n        \"description\": \"\"\n      }\n    },\n    {\n      \"column\": \"drinking_water\",\n      \"properties\": {\n        \"dtype\": \"number\",\n        \"std\": 16.359443033969686,\n        \"min\": 37.2,\n        \"max\": 99.0,\n        \"num_unique_values\": 430,\n        \"samples\": [\n          58.5,\n          92.3\n        ],\n        \"semantic_type\": \"\",\n        \"description\": \"\"\n      }\n    },\n    {\n      \"column\": \"sanitation_service\",\n      \"properties\": {\n        \"dtype\": \"number\",\n        \"std\": 28.458376564872648,\n        \"min\": 6.6,\n        \"max\": 99.0,\n        \"num_unique_values\": 604,\n        \"samples\": [\n          77.3,\n          35.0\n        ],\n        \"semantic_type\": \"\",\n        \"description\": \"\"\n      }\n    },\n    {\n      \"column\": \"children_stunted\",\n      \"properties\": {\n        \"dtype\": \"number\",\n        \"std\": 13.35726829432295,\n        \"min\": 1.2,\n        \"max\": 57.6,\n        \"num_unique_values\": 440,\n        \"samples\": [\n          29.1,\n          2.4\n        ],\n        \"semantic_type\": \"\",\n        \"description\": \"\"\n      }\n    },\n    {\n      \"column\": \"children_overweight\",\n      \"properties\": {\n        \"dtype\": \"number\",\n        \"std\": 4.380682414093944,\n        \"min\": 0.9,\n        \"max\": 26.0,\n        \"num_unique_values\": 181,\n        \"samples\": [\n          13.4,\n          14.9\n        ],\n        \"semantic_type\": \"\",\n        \"description\": \"\"\n      }\n    },\n    {\n      \"column\": \"investment_pct\",\n      \"properties\": {\n        \"dtype\": \"number\",\n        \"std\": 8.950246865514954,\n        \"min\": 1.7701605915509897,\n        \"max\": 80.461273153099,\n        \"num_unique_values\": 1717,\n        \"samples\": [\n          11.89509573834862,\n          28.90023783506005\n        ],\n        \"semantic_type\": \"\",\n        \"description\": \"\"\n      }\n    }\n  ]\n}"
            }
          },
          "metadata": {},
          "execution_count": 14
        }
      ]
    },
    {
      "cell_type": "markdown",
      "source": [
        "this code using subset drops all observations that have a missing value for drinking water and san service"
      ],
      "metadata": {
        "id": "jS2xLd6PN02w"
      }
    },
    {
      "cell_type": "markdown",
      "source": [
        "**Question 4**"
      ],
      "metadata": {
        "id": "IqJzo9k-OIuD"
      }
    },
    {
      "cell_type": "code",
      "source": [
        "# calculate average drinkwater\n",
        "average_drink_water = fao.groupby(['Area', 'SSA'])['drinking_water'].mean().round(2);\n",
        "\n",
        "print(average_drink_water)"
      ],
      "metadata": {
        "colab": {
          "base_uri": "https://localhost:8080/"
        },
        "id": "-XWssklPN0e2",
        "outputId": "81357c81-5f65-4c55-c8f1-47df4d456a9a"
      },
      "execution_count": 17,
      "outputs": [
        {
          "output_type": "stream",
          "name": "stdout",
          "text": [
            "Area                                SSA  \n",
            "Afghanistan                         False    64.16\n",
            "Albania                             False    93.71\n",
            "Algeria                             False    93.59\n",
            "American Samoa                      False    99.00\n",
            "Andorra                             False    99.00\n",
            "                                             ...  \n",
            "Venezuela (Bolivarian Republic of)  False    94.39\n",
            "Viet Nam                            False    93.87\n",
            "Yemen                               False    56.76\n",
            "Zambia                              True     62.14\n",
            "Zimbabwe                            True     64.53\n",
            "Name: drinking_water, Length: 201, dtype: float64\n"
          ]
        }
      ]
    },
    {
      "cell_type": "markdown",
      "source": [
        "By using the groupby function I can group observations based on the area and the ssa and get the mean value for the drinking water"
      ],
      "metadata": {
        "id": "eu_e2fK2PIrf"
      }
    },
    {
      "cell_type": "markdown",
      "source": [
        "**Question 5**"
      ],
      "metadata": {
        "id": "DHDOxdorPamv"
      }
    },
    {
      "cell_type": "code",
      "source": [
        "# use same process for previous question\n",
        "mean_sanitation = fao.groupby(['SSA', 'Year'])['sanitation_service'].mean().round(2);\n",
        "\n",
        "print(mean_sanitation)"
      ],
      "metadata": {
        "colab": {
          "base_uri": "https://localhost:8080/"
        },
        "id": "oPg6NeIhPZ7T",
        "outputId": "871b7e5b-d132-4fdc-952f-9a67470fdca4"
      },
      "execution_count": 18,
      "outputs": [
        {
          "output_type": "stream",
          "name": "stdout",
          "text": [
            "SSA    Year\n",
            "False  2012    85.30\n",
            "       2013    85.80\n",
            "       2014    86.28\n",
            "       2015    86.76\n",
            "       2016    87.13\n",
            "       2017    87.47\n",
            "       2018    87.98\n",
            "       2019    88.26\n",
            "       2020    88.48\n",
            "True   2012    34.33\n",
            "       2013    35.02\n",
            "       2014    35.67\n",
            "       2015    36.35\n",
            "       2016    37.00\n",
            "       2017    38.21\n",
            "       2018    36.91\n",
            "       2019    37.53\n",
            "       2020    36.57\n",
            "Name: sanitation_service, dtype: float64\n"
          ]
        }
      ]
    },
    {
      "cell_type": "markdown",
      "source": [
        "By using groupby again I can get the mean value for the sanitation service variable based on the year and SSA"
      ],
      "metadata": {
        "id": "ZtrDG0l8QNmG"
      }
    },
    {
      "cell_type": "markdown",
      "source": [
        "**Question 6**"
      ],
      "metadata": {
        "id": "H9uCgA45QjHT"
      }
    },
    {
      "cell_type": "code",
      "source": [
        "for year in fao['Year'].unique():\n",
        "  # Filter the DataFrame for observations corresponding to the current year\n",
        "  year_data = fao[fao['Year'] == year]\n",
        "\n",
        "  # sort the filtered data by ascending value\n",
        "  sorted_year_data = year_data.sort_values(by='drinking_water', ascending=True)\n",
        "\n",
        "  # Select the first 5 rows to get the 5 worst countries for that year\n",
        "  wrst_cntrys = sorted_year_data.head(5)\n",
        "  print(wrst_cntrys[['Area', 'drinking_water', 'Year']])"
      ],
      "metadata": {
        "colab": {
          "base_uri": "https://localhost:8080/"
        },
        "id": "lmcz2rjkQlWI",
        "outputId": "c7a70fe0-1788-48ca-f632-7ae2c839c494"
      },
      "execution_count": 28,
      "outputs": [
        {
          "output_type": "stream",
          "name": "stdout",
          "text": [
            "                                  Area  drinking_water  Year\n",
            "585                           Ethiopia            37.4  2012\n",
            "1287                  Papua New Guinea            39.2  2012\n",
            "477   Democratic Republic of the Congo            40.8  2012\n",
            "1548                       South Sudan            41.2  2012\n",
            "1728                            Uganda            43.2  2012\n",
            "                                  Area  drinking_water  Year\n",
            "586                           Ethiopia            39.0  2013\n",
            "1288                  Papua New Guinea            40.0  2013\n",
            "1549                       South Sudan            41.3  2013\n",
            "478   Democratic Republic of the Congo            41.5  2013\n",
            "316                               Chad            43.7  2013\n",
            "                                  Area  drinking_water  Year\n",
            "587                           Ethiopia            40.5  2014\n",
            "1289                  Papua New Guinea            40.7  2014\n",
            "1550                       South Sudan            41.3  2014\n",
            "479   Democratic Republic of the Congo            42.1  2014\n",
            "308           Central African Republic            43.4  2014\n",
            "                                  Area  drinking_water  Year\n",
            "1551                       South Sudan            41.2  2015\n",
            "1290                  Papua New Guinea            41.5  2015\n",
            "588                           Ethiopia            42.1  2015\n",
            "309           Central African Republic            42.3  2015\n",
            "480   Democratic Republic of the Congo            42.7  2015\n",
            "                                  Area  drinking_water  Year\n",
            "1552                       South Sudan            41.2  2016\n",
            "310           Central African Republic            41.3  2016\n",
            "1291                  Papua New Guinea            42.3  2016\n",
            "481   Democratic Republic of the Congo            43.4  2016\n",
            "589                           Ethiopia            43.6  2016\n",
            "                                  Area  drinking_water  Year\n",
            "311           Central African Republic            40.2  2017\n",
            "1553                       South Sudan            41.1  2017\n",
            "1292                  Papua New Guinea            43.0  2017\n",
            "482   Democratic Republic of the Congo            44.0  2017\n",
            "320                               Chad            45.1  2017\n",
            "                                  Area  drinking_water  Year\n",
            "312           Central African Republic            39.2  2018\n",
            "1554                       South Sudan            41.0  2018\n",
            "1293                  Papua New Guinea            43.8  2018\n",
            "483   Democratic Republic of the Congo            44.6  2018\n",
            "321                               Chad            45.5  2018\n",
            "                                  Area  drinking_water  Year\n",
            "313           Central African Republic            38.2  2019\n",
            "1555                       South Sudan            40.8  2019\n",
            "1294                  Papua New Guinea            44.6  2019\n",
            "484   Democratic Republic of the Congo            45.3  2019\n",
            "322                               Chad            45.8  2019\n",
            "                                  Area  drinking_water  Year\n",
            "314           Central African Republic            37.2  2020\n",
            "1556                       South Sudan            41.0  2020\n",
            "1295                  Papua New Guinea            45.3  2020\n",
            "485   Democratic Republic of the Congo            46.0  2020\n",
            "323                               Chad            46.2  2020\n"
          ]
        }
      ]
    },
    {
      "cell_type": "markdown",
      "source": [
        "this code uses a for loop to filter and sort the year data by drinking water then stores the 5 lowest values for countries drinking water into a variable called wrst_cntrys"
      ],
      "metadata": {
        "id": "CAezmB2WSO4-"
      }
    },
    {
      "cell_type": "markdown",
      "source": [
        "**Question 7**"
      ],
      "metadata": {
        "id": "d6JNbjg1SoSy"
      }
    },
    {
      "cell_type": "code",
      "source": [
        "# use the same process for the previous queston just using children_stunted\n",
        "\n",
        "for year in fao['Year'].unique():\n",
        "  # Filter the DataFrame for observations corresponding to the current year\n",
        "  year_data = fao[fao['Year'] == year]\n",
        "\n",
        "  # sort the filtered data by ascending value\n",
        "  sorted_year_data = year_data.sort_values(by='children_stunted', ascending=True)\n",
        "\n",
        "  # Select the first 5 rows to get the 5 worst countries for that year\n",
        "  wrst_cntrys = sorted_year_data.head(5)\n",
        "  print(wrst_cntrys[['Area', 'children_stunted', 'Year']])"
      ],
      "metadata": {
        "colab": {
          "base_uri": "https://localhost:8080/"
        },
        "id": "AbpL-PNxSqv7",
        "outputId": "aa8f9e0c-06e8-4771-b6be-69737d137bc5"
      },
      "execution_count": 30,
      "outputs": [
        {
          "output_type": "stream",
          "name": "stdout",
          "text": [
            "             Area  children_stunted  Year\n",
            "567       Estonia               1.3  2012\n",
            "657       Germany               1.5  2012\n",
            "1152  Netherlands               1.5  2012\n",
            "324         Chile               1.9  2012\n",
            "675        Greece               2.1  2012\n",
            "             Area  children_stunted  Year\n",
            "568       Estonia               1.3  2013\n",
            "658       Germany               1.5  2013\n",
            "1153  Netherlands               1.5  2013\n",
            "325         Chile               1.9  2013\n",
            "676        Greece               2.1  2013\n",
            "             Area  children_stunted  Year\n",
            "569       Estonia               1.3  2014\n",
            "1154  Netherlands               1.5  2014\n",
            "659       Germany               1.5  2014\n",
            "326         Chile               1.8  2014\n",
            "83      Australia               2.1  2014\n",
            "             Area  children_stunted  Year\n",
            "570       Estonia               1.3  2015\n",
            "1155  Netherlands               1.5  2015\n",
            "660       Germany               1.5  2015\n",
            "327         Chile               1.8  2015\n",
            "678        Greece               2.1  2015\n",
            "             Area  children_stunted  Year\n",
            "571       Estonia               1.3  2016\n",
            "661       Germany               1.5  2016\n",
            "1156  Netherlands               1.5  2016\n",
            "328         Chile               1.7  2016\n",
            "679        Greece               2.1  2016\n",
            "             Area  children_stunted  Year\n",
            "572       Estonia               1.2  2017\n",
            "1157  Netherlands               1.5  2017\n",
            "662       Germany               1.5  2017\n",
            "329         Chile               1.7  2017\n",
            "86      Australia               2.1  2017\n",
            "             Area  children_stunted  Year\n",
            "573       Estonia               1.2  2018\n",
            "663       Germany               1.6  2018\n",
            "330         Chile               1.6  2018\n",
            "1158  Netherlands               1.6  2018\n",
            "87      Australia               2.1  2018\n",
            "             Area  children_stunted  Year\n",
            "574       Estonia               1.2  2019\n",
            "1159  Netherlands               1.6  2019\n",
            "331         Chile               1.6  2019\n",
            "664       Germany               1.6  2019\n",
            "88      Australia               2.1  2019\n",
            "             Area  children_stunted  Year\n",
            "575       Estonia               1.2  2020\n",
            "1160  Netherlands               1.6  2020\n",
            "665       Germany               1.6  2020\n",
            "332         Chile               1.6  2020\n",
            "89      Australia               2.1  2020\n"
          ]
        }
      ]
    },
    {
      "cell_type": "markdown",
      "source": [
        "By using the same code for question 6 but using the correct variable children stunted I get the correct outcome"
      ],
      "metadata": {
        "id": "1g0PwC1hUAtz"
      }
    }
  ]
}