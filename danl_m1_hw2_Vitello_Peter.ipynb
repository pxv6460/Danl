{
  "nbformat": 4,
  "nbformat_minor": 0,
  "metadata": {
    "colab": {
      "provenance": [],
      "authorship_tag": "ABX9TyP/z66iSq/IwqTfII5yAJ+n",
      "include_colab_link": true
    },
    "kernelspec": {
      "name": "python3",
      "display_name": "Python 3"
    },
    "language_info": {
      "name": "python"
    }
  },
  "cells": [
    {
      "cell_type": "markdown",
      "metadata": {
        "id": "view-in-github",
        "colab_type": "text"
      },
      "source": [
        "<a href=\"https://colab.research.google.com/github/pxv6460/Danl/blob/main/danl_m1_hw2_Vitello_Peter.ipynb\" target=\"_parent\"><img src=\"https://colab.research.google.com/assets/colab-badge.svg\" alt=\"Open In Colab\"/></a>"
      ]
    },
    {
      "cell_type": "code",
      "execution_count": null,
      "metadata": {
        "id": "TfFDkhTeU_Vu"
      },
      "outputs": [],
      "source": []
    },
    {
      "cell_type": "markdown",
      "source": [
        "# Homework 2\n"
      ],
      "metadata": {
        "id": "htWSDjUhVF8S"
      }
    },
    {
      "cell_type": "code",
      "source": [],
      "metadata": {
        "id": "CmDwEQQ_VN6u"
      },
      "execution_count": null,
      "outputs": []
    },
    {
      "cell_type": "markdown",
      "source": [
        "**Question 1**"
      ],
      "metadata": {
        "id": "UyDoQbHdVPM4"
      }
    },
    {
      "cell_type": "markdown",
      "source": [
        "first I used the sort values to see if there was anyone with 0 seconds and once I saw that there was no one with 0 seconds I knew what my code returned was true"
      ],
      "metadata": {
        "id": "BMk9WfeAZElG"
      }
    },
    {
      "cell_type": "code",
      "source": [
        "import pandas as pd\n",
        "nhl = pd.read_csv('https://bcdanl.github.io/data/NHL-1617.csv')\n",
        "\n",
        "nhl.sort_values([\"TOI\"], ascending = False)\n",
        "\n",
        "\n",
        "plyrs_wth_time = nhl[nhl['TOI'] > 0] # using the TOI i made a contaier of players with ice time more than 0\n",
        "plyrs = len(plyrs_wth_time) #len returns the amount of entites in a container#\n",
        "\n",
        "print(\"Number of players with at least 1 second of time on the icee is\", plyrs, \"players.\")\n"
      ],
      "metadata": {
        "colab": {
          "base_uri": "https://localhost:8080/"
        },
        "id": "v334bWucVVWV",
        "outputId": "c0eb9518-77e2-4de8-aa6e-fa7738666c31"
      },
      "execution_count": 16,
      "outputs": [
        {
          "output_type": "stream",
          "name": "stdout",
          "text": [
            "Number of players with at least 1 second of time on the icee is 888 players.\n"
          ]
        }
      ]
    },
    {
      "cell_type": "markdown",
      "source": [
        "**Question 2**"
      ],
      "metadata": {
        "id": "uTSLoqhfZY6_"
      }
    },
    {
      "cell_type": "markdown",
      "source": [
        "there are 2 ways to do it that I found one was just by sorting the data so the leading scorer would be the first entry shown the other way using the idxmax which sorts the variables by finding the highest value"
      ],
      "metadata": {
        "id": "-9d5FKn4boIr"
      }
    },
    {
      "cell_type": "code",
      "source": [
        "nhl.sort_values([\"G\"], ascending = False) # this sorts the data to show that Cole Harbour was the leading scorer\n",
        "\n",
        "tp_Scr = nhl.loc[nhl[\"G\"].idxmax()] #idxmax returns the maximum value for a certain attribute\n",
        "print(\"top Scorer\", tp_Scr[['First_Name','Last_Name','G']]) # professor If you could teach me how to format the outcome that world be great thank you"
      ],
      "metadata": {
        "colab": {
          "base_uri": "https://localhost:8080/"
        },
        "id": "ME8NPkKAZeBf",
        "outputId": "358a1cb4-4683-4b28-bd68-58fc0943d02b"
      },
      "execution_count": 19,
      "outputs": [
        {
          "output_type": "stream",
          "name": "stdout",
          "text": [
            "top Scorer First_Name    Sidney\n",
            "Last_Name     Crosby\n",
            "G                 44\n",
            "Name: 149, dtype: object\n"
          ]
        }
      ]
    },
    {
      "cell_type": "markdown",
      "source": [
        "**Question 3**"
      ],
      "metadata": {
        "id": "JXwAp859cSfd"
      }
    },
    {
      "cell_type": "markdown",
      "source": [
        "we can count the number of players in each contry by using the value_counts function for the data"
      ],
      "metadata": {
        "id": "YtFfTg4QcVbW"
      }
    },
    {
      "cell_type": "code",
      "source": [
        "plyrs_cntry = nhl['Cntry'].value_counts() # count the number of unique rows for the data set\n",
        "\n",
        "print(plyrs_cntry)"
      ],
      "metadata": {
        "colab": {
          "base_uri": "https://localhost:8080/"
        },
        "id": "wqHqK9kCcWQl",
        "outputId": "062760d0-c480-4405-902f-f9452ad53f31"
      },
      "execution_count": 20,
      "outputs": [
        {
          "output_type": "stream",
          "name": "stdout",
          "text": [
            "CAN    415\n",
            "USA    242\n",
            "SWE     77\n",
            "RUS     39\n",
            "CZE     31\n",
            "FIN     30\n",
            "CHE     12\n",
            "SVK     10\n",
            "DNK      9\n",
            "DEU      6\n",
            "AUT      5\n",
            "FRA      4\n",
            "NOR      2\n",
            "LVA      1\n",
            "EST      1\n",
            "SVN      1\n",
            "GBR      1\n",
            "HRV      1\n",
            "ITA      1\n",
            "Name: Cntry, dtype: int64\n"
          ]
        }
      ]
    },
    {
      "cell_type": "markdown",
      "source": [
        "**Question 4**"
      ],
      "metadata": {
        "id": "lrq8ceqLdCrs"
      }
    },
    {
      "cell_type": "markdown",
      "source": [
        "the nunique function return the number of distict elements in a data set so the answer is 1="
      ],
      "metadata": {
        "id": "-NsQ5dRudGUA"
      }
    },
    {
      "cell_type": "code",
      "source": [
        "print(nhl['Cntry'].nunique()) #nunique returns the number if distict elements for the row of Cntry"
      ],
      "metadata": {
        "colab": {
          "base_uri": "https://localhost:8080/"
        },
        "id": "y4iGCkBqdCYl",
        "outputId": "03dd2002-f3ac-451d-f407-2eeeac97c92c"
      },
      "execution_count": 22,
      "outputs": [
        {
          "output_type": "stream",
          "name": "stdout",
          "text": [
            "19\n"
          ]
        }
      ]
    },
    {
      "cell_type": "markdown",
      "source": [
        "**Question 5**"
      ],
      "metadata": {
        "id": "hXzHNZBueUHR"
      }
    },
    {
      "cell_type": "markdown",
      "source": [
        "using the head function we can limit the data to 3 elements appearing in decending order"
      ],
      "metadata": {
        "id": "Y1Ewj5MleXb_"
      }
    },
    {
      "cell_type": "code",
      "source": [
        "top3 = plyrs_cntry.head(3) # head function can limit the aount to 3 elements and head goes with the highest values in decending order\n",
        "\n",
        "print(top3)"
      ],
      "metadata": {
        "colab": {
          "base_uri": "https://localhost:8080/"
        },
        "id": "oQNbW38VeXuZ",
        "outputId": "c032c1f5-3406-4d35-ea96-ca64ca97256a"
      },
      "execution_count": 24,
      "outputs": [
        {
          "output_type": "stream",
          "name": "stdout",
          "text": [
            "CAN    415\n",
            "USA    242\n",
            "SWE     77\n",
            "Name: Cntry, dtype: int64\n"
          ]
        }
      ]
    }
  ]
}