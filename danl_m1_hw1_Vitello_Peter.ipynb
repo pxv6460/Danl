{
  "nbformat": 4,
  "nbformat_minor": 0,
  "metadata": {
    "colab": {
      "provenance": [],
      "authorship_tag": "ABX9TyP7QHiPkIixOvvi3BN4gYjj",
      "include_colab_link": true
    },
    "kernelspec": {
      "name": "python3",
      "display_name": "Python 3"
    },
    "language_info": {
      "name": "python"
    }
  },
  "cells": [
    {
      "cell_type": "markdown",
      "metadata": {
        "id": "view-in-github",
        "colab_type": "text"
      },
      "source": [
        "<a href=\"https://colab.research.google.com/github/pxv6460/Danl/blob/main/danl_m1_hw1_Vitello_Peter.ipynb\" target=\"_parent\"><img src=\"https://colab.research.google.com/assets/colab-badge.svg\" alt=\"Open In Colab\"/></a>"
      ]
    },
    {
      "cell_type": "markdown",
      "source": [
        "**Question 1**"
      ],
      "metadata": {
        "id": "H1pi6y6OsI42"
      }
    },
    {
      "cell_type": "code",
      "execution_count": 2,
      "metadata": {
        "colab": {
          "base_uri": "https://localhost:8080/"
        },
        "id": "8DFuJImBsBkn",
        "outputId": "0154db7e-dbb9-4abc-a745-378bcf4d2d7d"
      },
      "outputs": [
        {
          "output_type": "stream",
          "name": "stdout",
          "text": [
            "5\n"
          ]
        }
      ],
      "source": [
        "x = 5\n",
        "print(x)"
      ]
    },
    {
      "cell_type": "markdown",
      "source": [
        "**Question 2**"
      ],
      "metadata": {
        "id": "Kik4YGPGsmaD"
      }
    },
    {
      "cell_type": "code",
      "source": [
        "lst = [1, 2, 3, 4, 5]\n",
        "lst[1:4]"
      ],
      "metadata": {
        "colab": {
          "base_uri": "https://localhost:8080/"
        },
        "id": "1_cZOXegssE5",
        "outputId": "c90bee82-007d-436f-b89b-a4d4da415163"
      },
      "execution_count": 3,
      "outputs": [
        {
          "output_type": "execute_result",
          "data": {
            "text/plain": [
              "[2, 3, 4]"
            ]
          },
          "metadata": {},
          "execution_count": 3
        }
      ]
    },
    {
      "cell_type": "markdown",
      "source": [
        "**Question 3**\n",
        "\n"
      ],
      "metadata": {
        "id": "COJVyraNtGK7"
      }
    },
    {
      "cell_type": "code",
      "source": [
        "dict = {\"apple\": 5, \"banana\": 3, \"cherry\": 7}\n",
        "BananaVal = dict[\"banana\"]\n",
        "print(BananaVal)"
      ],
      "metadata": {
        "colab": {
          "base_uri": "https://localhost:8080/"
        },
        "id": "B14S2axFtHrX",
        "outputId": "5273cc0d-c96e-41fc-f26a-a7257d271aa3"
      },
      "execution_count": 5,
      "outputs": [
        {
          "output_type": "stream",
          "name": "stdout",
          "text": [
            "3\n"
          ]
        }
      ]
    },
    {
      "cell_type": "markdown",
      "source": [
        "**Question 4**"
      ],
      "metadata": {
        "id": "QtXsbv-iuELn"
      }
    },
    {
      "cell_type": "code",
      "source": [
        "True and False\n"
      ],
      "metadata": {
        "colab": {
          "base_uri": "https://localhost:8080/"
        },
        "id": "dPaN5s-duGNF",
        "outputId": "3bad2426-7a2a-46c5-f0b8-b7df6ac6516f"
      },
      "execution_count": 11,
      "outputs": [
        {
          "output_type": "execute_result",
          "data": {
            "text/plain": [
              "False"
            ]
          },
          "metadata": {},
          "execution_count": 11
        }
      ]
    },
    {
      "cell_type": "markdown",
      "source": [
        "This returns false because the and operator requires both to be true not just one"
      ],
      "metadata": {
        "id": "-fGREPgWvNJ_"
      }
    },
    {
      "cell_type": "code",
      "source": [
        "not (100 == '100' and 25 < 36)"
      ],
      "metadata": {
        "colab": {
          "base_uri": "https://localhost:8080/"
        },
        "id": "Z3FOZaYruUq9",
        "outputId": "19f229e6-ee48-4205-ebf1-1857dc897a32"
      },
      "execution_count": 58,
      "outputs": [
        {
          "output_type": "execute_result",
          "data": {
            "text/plain": [
              "True"
            ]
          },
          "metadata": {},
          "execution_count": 58
        }
      ]
    },
    {
      "cell_type": "markdown",
      "source": [
        "the first statement is false because and Int of 100 does not == a sting of 100 in Python and the second state is true because 36 is greater than 25 but the and operator dictates that the overall statement is false because both are not true but the not operator returns true because it is negating the statement"
      ],
      "metadata": {
        "id": "b9vJ7gLRumtn"
      }
    },
    {
      "cell_type": "code",
      "source": [
        "True or False"
      ],
      "metadata": {
        "colab": {
          "base_uri": "https://localhost:8080/"
        },
        "id": "2DaDpAacuWDP",
        "outputId": "8ebdaa04-f765-488b-f907-84dd83f8eac3"
      },
      "execution_count": 13,
      "outputs": [
        {
          "output_type": "execute_result",
          "data": {
            "text/plain": [
              "True"
            ]
          },
          "metadata": {},
          "execution_count": 13
        }
      ]
    },
    {
      "cell_type": "markdown",
      "source": [
        "this is true because the or operator only requires at least one to be true not both"
      ],
      "metadata": {
        "id": "ZsjcAUQCuakR"
      }
    },
    {
      "cell_type": "markdown",
      "source": [
        "**Question 5**"
      ],
      "metadata": {
        "id": "M0ZjIBGdvXUU"
      }
    },
    {
      "cell_type": "code",
      "source": [
        "import random\n",
        "\n",
        "score = random.randrange(0,100)\n",
        "print(score)\n",
        "\n",
        "if score > 90:\n",
        "  print(\"well done\")\n",
        "elif score < 90 and score > 40:\n",
        "  print(\"good\")\n",
        "else:\n",
        "  print(\"bad luck\")"
      ],
      "metadata": {
        "colab": {
          "base_uri": "https://localhost:8080/"
        },
        "id": "X-XVthCEvcZq",
        "outputId": "466e4e33-1dba-4f68-880d-2a23ba2bfd79"
      },
      "execution_count": 56,
      "outputs": [
        {
          "output_type": "stream",
          "name": "stdout",
          "text": [
            "30\n",
            "bad luck\n"
          ]
        }
      ]
    },
    {
      "cell_type": "markdown",
      "source": [
        "**Question 6**"
      ],
      "metadata": {
        "id": "V-C367d_xIsw"
      }
    },
    {
      "cell_type": "code",
      "source": [
        "sent = \"coding for Data analysts\"\n",
        "\n",
        "Words = sent.split()\n",
        "\n",
        "for Word in Words:\n",
        "  print(Word)"
      ],
      "metadata": {
        "colab": {
          "base_uri": "https://localhost:8080/"
        },
        "id": "QxUX5T0UxMXE",
        "outputId": "0ef40801-244f-4f19-9ce9-bcadd806be05"
      },
      "execution_count": 44,
      "outputs": [
        {
          "output_type": "stream",
          "name": "stdout",
          "text": [
            "coding\n",
            "for\n",
            "Data\n",
            "analysts\n"
          ]
        }
      ]
    },
    {
      "cell_type": "markdown",
      "source": [
        "**Question 7**"
      ],
      "metadata": {
        "id": "uSSc2ySYx6Dr"
      }
    },
    {
      "cell_type": "code",
      "source": [
        "import math\n",
        "\n",
        "num = math.sqrt(16)\n",
        "\n",
        "print(num)"
      ],
      "metadata": {
        "colab": {
          "base_uri": "https://localhost:8080/"
        },
        "id": "7GqeUSF4x-DS",
        "outputId": "4d8a1fc2-1e04-4e1e-c5bb-2becda7a0d4c"
      },
      "execution_count": 47,
      "outputs": [
        {
          "output_type": "stream",
          "name": "stdout",
          "text": [
            "4.0\n"
          ]
        }
      ]
    }
  ]
}